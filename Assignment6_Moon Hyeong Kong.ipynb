{
 "cells": [
  {
   "cell_type": "raw",
   "metadata": {
    "vscode": {
     "languageId": "raw"
    }
   },
   "source": [
    "---\n",
    "title: STATS 3DA3\n",
    "subtitle: Homework Assignment 2\n",
    "author: \"Moon Hyeong Kong (400550153)\"\n",
    "date: 04/18/2024\n",
    "format: pdf\n",
    "header-includes:\n",
    "   - \\usepackage{amsmath}\n",
    "   - \\usepackage{bbm}\n",
    "   - \\usepackage{array}\n",
    "   - \\usepackage{multirow}\n",
    "   - \\usepackage{graphicx}\n",
    "   - \\usepackage{float}\n",
    "   - \\usepackage{apacite}\n",
    "   - \\usepackage{natbib}\n",
    "execute: \n",
    "  echo: true\n",
    "fontsize: 11pt\n",
    "geometry: margin = 1in\n",
    "linestretch: 1.5\n",
    "---"
   ]
  },
  {
   "cell_type": "code",
   "execution_count": null,
   "metadata": {},
   "outputs": [],
   "source": [
    "import pandas as pd\n",
    "import numpy as np\n",
    "import matplotlib.pyplot as plt\n",
    "import seaborn as sns\n",
    "\n",
    "from sklearn.model_selection import train_test_split, cross_val_score\n",
    "from sklearn.metrics import mean_squared_error, confusion_matrix, classification_report\n",
    "from sklearn.tree import DecisionTreeClassifier, DecisionTreeRegressor, plot_tree\n",
    "\n",
    "from sklearn.feature_selection import VarianceThreshold\n",
    "from sklearn.preprocessing import StandardScaler,OneHotEncoder\n",
    "\n",
    "from sklearn.cluster import KMeans\n",
    "from sklearn.decomposition import PCA\n",
    "\n",
    "from scipy import stats\n",
    "from sklearn.compose import ColumnTransformer\n",
    "from sklearn.ensemble import RandomForestClassifier"
   ]
  },
  {
   "cell_type": "code",
   "execution_count": null,
   "metadata": {},
   "outputs": [],
   "source": [
    "### Importing dataset\n",
    "from ucimlrepo import fetch_ucirepo \n",
    "  \n",
    "# fetch dataset \n",
    "chronic_kidney_disease = fetch_ucirepo(id=336) \n",
    "  \n",
    "# data (as pandas dataframes) \n",
    "X = chronic_kidney_disease.data.features \n",
    "y = chronic_kidney_disease.data.targets \n",
    "\n",
    "y.replace(\"ckd\\t\", \"ckd\", inplace=True)\n",
    "\n",
    "# metadata \n",
    "print(chronic_kidney_disease.metadata) "
   ]
  },
  {
   "cell_type": "code",
   "execution_count": null,
   "metadata": {},
   "outputs": [],
   "source": [
    "# variable information \n",
    "print(chronic_kidney_disease.variables) "
   ]
  },
  {
   "cell_type": "code",
   "execution_count": null,
   "metadata": {},
   "outputs": [],
   "source": [
    "print(X.shape)"
   ]
  },
  {
   "cell_type": "code",
   "execution_count": null,
   "metadata": {},
   "outputs": [],
   "source": [
    "print(X.dtypes)"
   ]
  },
  {
   "cell_type": "code",
   "execution_count": null,
   "metadata": {},
   "outputs": [],
   "source": [
    "cat = ['rbc','pc','pcc','ba','htn','dm','cad','appet','pe','ane']\n",
    "\n",
    "for col in cat:\n",
    "    X[col] = pd.Categorical(X[col]).codes\n",
    "\n",
    "X.head()"
   ]
  },
  {
   "cell_type": "markdown",
   "metadata": {},
   "source": [
    "### 1.\n",
    "We need to classify whether the patient has chronic kidney disease."
   ]
  },
  {
   "cell_type": "code",
   "execution_count": null,
   "metadata": {},
   "outputs": [],
   "source": [
    "### Q2\n",
    "# Standarize?\n",
    "scaler=StandardScaler()\n",
    "scaled_X = scaler.fit_transform(X)"
   ]
  },
  {
   "cell_type": "markdown",
   "metadata": {},
   "source": [
    "### Q2.\n",
    "Standarized numeric values of X, to lessen the effect of mean and variance on classification dataset."
   ]
  },
  {
   "cell_type": "code",
   "execution_count": null,
   "metadata": {},
   "outputs": [],
   "source": [
    "### Q3\n",
    "print(scaled_X.shape)"
   ]
  },
  {
   "cell_type": "code",
   "execution_count": null,
   "metadata": {},
   "outputs": [],
   "source": [
    "scaled_X = pd.DataFrame(scaled_X, columns=X.columns)\n",
    "print(scaled_X.head())"
   ]
  },
  {
   "cell_type": "code",
   "execution_count": null,
   "metadata": {},
   "outputs": [],
   "source": [
    "for column in scaled_X.columns:\n",
    "    plt.hist(scaled_X[column], bins=20)\n",
    "    plt.xlabel('Value')\n",
    "    plt.ylabel('Frequency')\n",
    "    plt.title(f'Histogram of {column}')\n",
    "    plt.show()"
   ]
  },
  {
   "cell_type": "markdown",
   "metadata": {},
   "source": [
    "### Q3\n",
    "- Some covariates are skewed to the left(sod,hemo,pcv), some covariates are skewed to the right(bgr,bu,sc,pot,wbcc).\n",
    "- None of the categorical variables have balanced outcome.\n",
    "- Some covariates(bp,sg,al,su) only have certain values. It means they are categorical."
   ]
  },
  {
   "cell_type": "code",
   "execution_count": null,
   "metadata": {},
   "outputs": [],
   "source": [
    "### Q4\n",
    "correlation_matrix = scaled_X.corr()\n",
    "plt.figure(figsize=(10,8))\n",
    "sns.heatmap(correlation_matrix, annot=True, cmap='coolwarm')\n",
    "plt.title(\"Correlation Heatmap for numeric variables\")\n",
    "plt.show()"
   ]
  },
  {
   "cell_type": "markdown",
   "metadata": {},
   "source": [
    "### Q4.\n",
    "- 'pot' and 'wbcc' do not seem to have relations with other covariates, while 'sg' and 'pcv' seem to be heavily correlated with other variables.\n",
    "- There seems to be more negative correlation than postivie correlation.\n",
    "- 'hemo','pcv','sg','al','rbcc' seems to be heavily correlated with each other."
   ]
  },
  {
   "cell_type": "code",
   "execution_count": null,
   "metadata": {},
   "outputs": [],
   "source": [
    "### Q5\n",
    "# Change the values first\n",
    "revised_X = X.copy()\n",
    "\n",
    "revised_X.update(scaled_X)\n",
    "\n",
    "# Replace NaN with mean\n",
    "mean_values = revised_X.mean()\n",
    "revised_X.fillna(mean_values, inplace=True)\n",
    "\n",
    "print(revised_X.shape)\n",
    "print(revised_X.dtypes)"
   ]
  },
  {
   "cell_type": "code",
   "execution_count": null,
   "metadata": {},
   "outputs": [],
   "source": [
    "### Q6\n",
    "# From the numerical variables, find outliers\n",
    "z_scores = stats.zscore(revised_X)\n",
    "threshold = 3\n",
    "outliers = (z_scores > threshold).any(axis=1)\n",
    "scaled_X_removed = scaled_X[~outliers]\n",
    "\n",
    "# Fill NaN with mean value\n",
    "scaled_X_removed = scaled_X_removed.fillna(scaled_X_removed.mean())\n",
    "\n",
    "scaled_X_removed.shape"
   ]
  },
  {
   "cell_type": "code",
   "execution_count": null,
   "metadata": {},
   "outputs": [],
   "source": [
    "### Q7\n",
    "pca = PCA(n_components=2)\n",
    "principal_components = pca.fit_transform(scaled_X_removed)\n",
    "\n",
    "kmeans = KMeans(n_clusters=2, random_state=142857)\n",
    "kmeans.fit(principal_components)\n",
    "clusters = kmeans.fit_predict(scaled_X_removed)\n",
    "\n",
    "plt.figure(figsize=(8, 6))\n",
    "plt.scatter(principal_components[:, 0], principal_components[:, 1], c=clusters, cmap='viridis')\n",
    "plt.title('K-means Clustering')\n",
    "plt.xlabel('Principal Component 1')\n",
    "plt.ylabel('Principal Component 2')\n",
    "plt.colorbar(label='Cluster')\n",
    "plt.show()"
   ]
  },
  {
   "cell_type": "code",
   "execution_count": null,
   "metadata": {},
   "outputs": [],
   "source": [
    "### Q8\n",
    "y_removed = y[~outliers]"
   ]
  },
  {
   "cell_type": "code",
   "execution_count": null,
   "metadata": {},
   "outputs": [],
   "source": [
    "X_train, X_test, y_train, y_test = train_test_split(scaled_X_removed, y_removed, test_size=0.3, random_state=1)"
   ]
  },
  {
   "cell_type": "markdown",
   "metadata": {},
   "source": [
    "### Q9\n",
    "- One can use classification tree, since it is most natural choice.\n",
    "- The other method for classification would be perception, or using coin flip. 50-60% score would be assigned."
   ]
  },
  {
   "cell_type": "code",
   "execution_count": null,
   "metadata": {},
   "outputs": [],
   "source": [
    "cs_dt = DecisionTreeClassifier(\n",
    "    max_depth = 10, \n",
    "    random_state=0\n",
    ") "
   ]
  },
  {
   "cell_type": "code",
   "execution_count": null,
   "metadata": {},
   "outputs": [],
   "source": [
    "cs_dt.fit(X_train, y_train)"
   ]
  },
  {
   "cell_type": "code",
   "execution_count": null,
   "metadata": {},
   "outputs": [],
   "source": [
    "# Q10\n",
    "pred = cs_dt.predict(X_test)\n",
    "pred[:5]"
   ]
  },
  {
   "cell_type": "code",
   "execution_count": null,
   "metadata": {},
   "outputs": [],
   "source": [
    "y_train.value_counts()"
   ]
  },
  {
   "cell_type": "code",
   "execution_count": null,
   "metadata": {},
   "outputs": [],
   "source": [
    "plot_tree(\n",
    "    cs_dt, \n",
    "    max_depth= 2, \n",
    "    feature_names = X_train.columns.tolist(), \n",
    "    class_names=['notckd', 'ckd']\n",
    ")"
   ]
  },
  {
   "cell_type": "code",
   "execution_count": null,
   "metadata": {},
   "outputs": [],
   "source": [
    "cm = pd.DataFrame(confusion_matrix(y_test, pred), index=['No', 'Yes'], columns=['No', 'Yes'])\n",
    "cm.index.name = 'True'\n",
    "cm.columns.name = 'Predicted'\n",
    "cm"
   ]
  },
  {
   "cell_type": "code",
   "execution_count": null,
   "metadata": {},
   "outputs": [],
   "source": [
    "cs_dt.score(X_test, y_test)"
   ]
  },
  {
   "cell_type": "code",
   "execution_count": null,
   "metadata": {},
   "outputs": [],
   "source": [
    "print(classification_report(y_test, pred))"
   ]
  },
  {
   "cell_type": "markdown",
   "metadata": {},
   "source": [
    "### Q10\n",
    "- From classification tree, we get score over 97%.\n",
    "- With comparison using perception or coin flip, it will be hard to get to similar score."
   ]
  },
  {
   "cell_type": "code",
   "execution_count": null,
   "metadata": {},
   "outputs": [],
   "source": [
    "### Q11\n",
    "# Updating classification tree...\n",
    "cs_dt_best = DecisionTreeClassifier(\n",
    "    max_depth = 5, \n",
    "    random_state=0\n",
    "    ) \n",
    "cs_dt_best.fit(X, y)"
   ]
  },
  {
   "cell_type": "code",
   "execution_count": null,
   "metadata": {},
   "outputs": [],
   "source": [
    "fea_imp = cs_dt_best.feature_importances_"
   ]
  },
  {
   "cell_type": "code",
   "execution_count": null,
   "metadata": {},
   "outputs": [],
   "source": [
    "sorted_indices = fea_imp.argsort()[::-1]# read from the tail of the argsort to get greatest to least indices of the elements\n",
    "sorted_feature_names = X_train.columns[sorted_indices]\n",
    "sorted_importances = fea_imp[sorted_indices]"
   ]
  },
  {
   "cell_type": "code",
   "execution_count": null,
   "metadata": {},
   "outputs": [],
   "source": [
    "sns.barplot(x = sorted_importances, y = sorted_feature_names)\n",
    "plt.show()"
   ]
  },
  {
   "cell_type": "markdown",
   "metadata": {},
   "source": [
    "### Q11-Q12\n",
    "- The importance of variates vary heavily, so including only certain variates may be a better way for classification.\n",
    "- Classification tree seems to be a good way of classifying observations."
   ]
  },
  {
   "cell_type": "code",
   "execution_count": null,
   "metadata": {},
   "outputs": [],
   "source": [
    "# Q13\n",
    "feature_importances = classifier.feature_importances_\n",
    "indices = np.argsort(feature_importances)[::-1]\n",
    "feature_names = X_train.columns\n",
    "\n",
    "plt.figure(figsize=(10, 6))\n",
    "plt.title(\"Feature Importances\")\n",
    "plt.bar(range(X_train.shape[1]), feature_importances[indices], align=\"center\")\n",
    "plt.xticks(range(X_train.shape[1]), feature_names[indices], rotation=90)\n",
    "plt.xlabel(\"Feature\")\n",
    "plt.ylabel(\"Importance\")\n",
    "plt.tight_layout()\n",
    "plt.show()\n",
    "\n",
    "feature_names[indices][:2]"
   ]
  },
  {
   "cell_type": "markdown",
   "metadata": {},
   "source": [
    "### Q13\n",
    "- 'hemo' and 'sg' are two most important features. Since they are directly related to health, it is natural that they are important.\n",
    "- The fact that age is not very important implies that CKD is acquired rather than congenital."
   ]
  },
  {
   "cell_type": "code",
   "execution_count": null,
   "metadata": {},
   "outputs": [],
   "source": [
    "# Q14\n",
    "## We can try random forest classifier to improve classification using classification tree\n",
    "random_forest_classifier = RandomForestClassifier(n_estimators=100, random_state=42)\n",
    "\n",
    "random_forest_classifier.fit(X_train, y_train)\n",
    "\n",
    "accuracy = random_forest_classifier.score(X_test, y_test)\n",
    "print(accuracy)"
   ]
  },
  {
   "cell_type": "markdown",
   "metadata": {},
   "source": [
    "### Q14\n",
    "The accuary of the classification improved from 0.97 to 1.0."
   ]
  },
  {
   "cell_type": "markdown",
   "metadata": {},
   "source": [
    "### Q16\n",
    "https://github.com/FoolyM/3DA3HW6"
   ]
  },
  {
   "cell_type": "markdown",
   "metadata": {},
   "source": [
    "### Helper's Name\n",
    "Jihwan Kim(400182249)"
   ]
  }
 ],
 "metadata": {
  "kernelspec": {
   "display_name": "venv",
   "language": "python",
   "name": "python3"
  },
  "language_info": {
   "codemirror_mode": {
    "name": "ipython",
    "version": 3
   },
   "file_extension": ".py",
   "mimetype": "text/x-python",
   "name": "python",
   "nbconvert_exporter": "python",
   "pygments_lexer": "ipython3",
   "version": "3.11.5"
  }
 },
 "nbformat": 4,
 "nbformat_minor": 2
}
